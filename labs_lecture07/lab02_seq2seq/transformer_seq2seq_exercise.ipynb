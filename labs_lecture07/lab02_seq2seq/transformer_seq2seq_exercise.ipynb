{
 "cells": [
  {
   "cell_type": "markdown",
   "metadata": {
    "id": "PU0wD0LEBbVZ"
   },
   "source": [
    "# Lab 02 : Sequence-to-sequence transformers -- exercise\n",
    "\n",
    "### Task   \n",
    "\n",
    "The goal is to learn to translate an input sequence to an output sequence, which is simply the same input sequence but shifted to the right by one word.  \n",
    "\n",
    "Example, if the input sequence is \"some analysts expect oil prices to remain relatively\" then the output sequence is \"analysts expect oil prices to remain relatively high\".  \n",
    "\n",
    "We will use an encoder-decoder Transformer to achieve this goal on the PTB dataset. The decoder will start with a token \"start_token\" assigned to the 10,001-th word in the dictionary. \n",
    "\n",
    "Example, if the input sequence is \"456 82 948 5892 34 4928 4758 567\" then the output sequence is \"10001 82 948 5892 34 4928 4758 567\" and  the label sequence is \"82 948 5892 34 4928 4758 567 745\".\n"
   ]
  },
  {
   "cell_type": "code",
   "execution_count": null,
   "metadata": {
    "colab": {
     "base_uri": "https://localhost:8080/"
    },
    "executionInfo": {
     "elapsed": 428,
     "status": "ok",
     "timestamp": 1634566698702,
     "user": {
      "displayName": "Xavier Bresson",
      "photoUrl": "https://lh3.googleusercontent.com/a-/AOh14GgioGx5OdvAc1VASSVcYQ8NHiQo4PQ7B39ZSmys=s64",
      "userId": "14103767471123103792"
     },
     "user_tz": -480
    },
    "id": "qoogmpRzBbVg",
    "outputId": "5d1cf4ca-264b-4d9d-da9b-5cb4f49ad097"
   },
   "outputs": [],
   "source": [
    "# For Google Colaboratory\n",
    "import sys, os\n",
    "if 'google.colab' in sys.modules:\n",
    "    # mount google drive\n",
    "    from google.colab import drive\n",
    "    drive.mount('/content/gdrive')\n",
    "    path_to_file = '/content/gdrive/My Drive/CS5242_2025_codes/labs_lecture07/lab02_seq2seq/'\n",
    "    print(path_to_file)\n",
    "    # change current path to the folder containing \"file_name\"\n",
    "    os.chdir(path_to_file)\n",
    "    !pwd"
   ]
  },
  {
   "cell_type": "code",
   "execution_count": 1,
   "metadata": {
    "executionInfo": {
     "elapsed": 18,
     "status": "ok",
     "timestamp": 1634566699273,
     "user": {
      "displayName": "Xavier Bresson",
      "photoUrl": "https://lh3.googleusercontent.com/a-/AOh14GgioGx5OdvAc1VASSVcYQ8NHiQo4PQ7B39ZSmys=s64",
      "userId": "14103767471123103792"
     },
     "user_tz": -480
    },
    "id": "A3yiLJBBBbVh"
   },
   "outputs": [],
   "source": [
    "import torch\n",
    "import torch.nn.functional as F\n",
    "import torch.nn as nn\n",
    "import math\n",
    "import time\n",
    "import utils"
   ]
  },
  {
   "cell_type": "markdown",
   "metadata": {
    "id": "Pe01LtUIBbVj"
   },
   "source": [
    "### GPU\n",
    "\n",
    "It is recommended to run this code on GPU:<br> \n",
    "* Time for 1 epoch on GPU : 1.5 sec w/ Google Colab Tesla P100-PCIE-16GB <br>"
   ]
  },
  {
   "cell_type": "code",
   "execution_count": 2,
   "metadata": {
    "colab": {
     "base_uri": "https://localhost:8080/"
    },
    "executionInfo": {
     "elapsed": 18,
     "status": "ok",
     "timestamp": 1634566699274,
     "user": {
      "displayName": "Xavier Bresson",
      "photoUrl": "https://lh3.googleusercontent.com/a-/AOh14GgioGx5OdvAc1VASSVcYQ8NHiQo4PQ7B39ZSmys=s64",
      "userId": "14103767471123103792"
     },
     "user_tz": -480
    },
    "id": "g_A4HBT3BbVj",
    "outputId": "780cb794-c757-4952-828b-31fd84392780"
   },
   "outputs": [
    {
     "name": "stdout",
     "output_type": "stream",
     "text": [
      "cpu\n"
     ]
    }
   ],
   "source": [
    "device= torch.device(\"cuda\")\n",
    "device= torch.device(\"cpu\")\n",
    "print(device)\n",
    "\n",
    "if torch.cuda.is_available():\n",
    "    print('cuda available with GPU:',torch.cuda.get_device_name(0))"
   ]
  },
  {
   "cell_type": "markdown",
   "metadata": {
    "id": "6S3W2p84BbVk"
   },
   "source": [
    "### Download Penn Tree Bank\n",
    "\n",
    "The tensor train_data consists of 20 columns of 46,479 words.<br>\n",
    "The tensor test_data consists of 20 columns of 4,121 words."
   ]
  },
  {
   "cell_type": "code",
   "execution_count": 3,
   "metadata": {
    "colab": {
     "base_uri": "https://localhost:8080/"
    },
    "executionInfo": {
     "elapsed": 16,
     "status": "ok",
     "timestamp": 1634566699274,
     "user": {
      "displayName": "Xavier Bresson",
      "photoUrl": "https://lh3.googleusercontent.com/a-/AOh14GgioGx5OdvAc1VASSVcYQ8NHiQo4PQ7B39ZSmys=s64",
      "userId": "14103767471123103792"
     },
     "user_tz": -480
    },
    "id": "TnE-JNp_BbVk",
    "outputId": "a59a9495-c958-4d68-e082-ffacb35f6a7e"
   },
   "outputs": [
    {
     "name": "stdout",
     "output_type": "stream",
     "text": [
      "torch.Size([46479, 20])\n",
      "torch.Size([4121, 20])\n"
     ]
    }
   ],
   "source": [
    "from utils import check_ptb_dataset_exists\n",
    "data_path=check_ptb_dataset_exists()\n",
    "\n",
    "train_data  =  torch.load(data_path+'ptb/train_data.pt')\n",
    "test_data   =  torch.load(data_path+'ptb/test_data.pt')\n",
    "\n",
    "print(  train_data.size()  )\n",
    "print(  test_data.size()   )"
   ]
  },
  {
   "cell_type": "code",
   "execution_count": 4,
   "metadata": {},
   "outputs": [
    {
     "name": "stdout",
     "output_type": "stream",
     "text": [
      "torch.Size([1001, 20])\n"
     ]
    }
   ],
   "source": [
    "# Extract a sub-part of PTB\n",
    "doc_len = 1001\n",
    "train_data = train_data[:doc_len,:]\n",
    "print(  train_data.size()  )"
   ]
  },
  {
   "cell_type": "markdown",
   "metadata": {
    "id": "BDxTJimKBbVl"
   },
   "source": [
    "### Some constants associated with the data set"
   ]
  },
  {
   "cell_type": "code",
   "execution_count": 5,
   "metadata": {
    "executionInfo": {
     "elapsed": 11,
     "status": "ok",
     "timestamp": 1634566699275,
     "user": {
      "displayName": "Xavier Bresson",
      "photoUrl": "https://lh3.googleusercontent.com/a-/AOh14GgioGx5OdvAc1VASSVcYQ8NHiQo4PQ7B39ZSmys=s64",
      "userId": "14103767471123103792"
     },
     "user_tz": -480
    },
    "id": "MS9EUUvbBbVm"
   },
   "outputs": [],
   "source": [
    "bs = 20\n",
    "vocab_size = 10000 + 1 # +1 for the start token"
   ]
  },
  {
   "cell_type": "markdown",
   "metadata": {
    "id": "7U9UvE28BbVm"
   },
   "source": [
    "### Make an attention net class"
   ]
  },
  {
   "cell_type": "code",
   "execution_count": null,
   "metadata": {
    "executionInfo": {
     "elapsed": 12,
     "status": "ok",
     "timestamp": 1634566699276,
     "user": {
      "displayName": "Xavier Bresson",
      "photoUrl": "https://lh3.googleusercontent.com/a-/AOh14GgioGx5OdvAc1VASSVcYQ8NHiQo4PQ7B39ZSmys=s64",
      "userId": "14103767471123103792"
     },
     "user_tz": -480
    },
    "id": "RRmg_OUaBbVn"
   },
   "outputs": [],
   "source": [
    "\n",
    "def generate_positional_encoding(seq_length, dim):\n",
    "    assert dim == 2* (dim//2) # check if dim is divisible by 2\n",
    "    pe = torch.zeros(seq_length, dim)\n",
    "    position = torch.arange(0, seq_length, dtype=torch.float).unsqueeze(1)\n",
    "    div_term = torch.exp(torch.arange(0, dim, 2).float() * (-torch.log(torch.tensor(10000.0)) / dim))\n",
    "    pe[:,0::2] = torch.sin(position * div_term)\n",
    "    pe[:,1::2] = torch.cos(position * div_term)\n",
    "    return pe        \n",
    "    \n",
    "\n",
    "########### Encoder Transformer Block ###########\n",
    "class AttentionHead_encoder(nn.Module):\n",
    "    def __init__(self, d, d_head, dropout):\n",
    "        super().__init__()\n",
    "        self.query = nn.Linear(d, d_head, bias=False) # query embedding layer\n",
    "        self.key = nn.Linear(d, d_head, bias=False) # key embedding layer\n",
    "        self.value = nn.Linear(d, d_head) # value embedding layer\n",
    "        self.dropout = nn.Dropout(dropout)\n",
    "    def forward(self, H): # size(H)=[batch_size, seq_length, d]\n",
    "        batch_size = H.size(0); batch_len = H.size(1); d = H.size(2)\n",
    "        # self-attention encoder\n",
    "        # COMPLETE HERE \n",
    "        Q = self.query(H) # [B, L, d_head]\n",
    "        K = self.query(H) # [B, L, d_head]\n",
    "        V = self.query(H) # [B, L, d_head]\n",
    "\n",
    "        # note: no need mask\n",
    "        attention_score = Q @ K.transpose(1,2) / d ** 0.5 # [B, L, d_head] @ # [B, d_head, L] -> [B, L, L]\n",
    "        attention_score = torch.softmax(attention_score, dim=2) # [B, L, L]\n",
    "        attention_score = self.dropout(attention_score) # dropout attention scores\n",
    "        H_HA = attention_score @ V # [B, L, L] @ [B, L, d_head] -> [B, L, d_head]\n",
    "        \n",
    "        return H_HA # return prediction scores for next token\n",
    "        \n",
    "class MultipleAttentionHead_encoder(nn.Module):\n",
    "    def __init__(self, d, num_heads, dropout):\n",
    "        super().__init__()\n",
    "        d_head = d // num_heads # dim_head = d // num_heads, usually dimension per head is 64\n",
    "        assert d == d_head * num_heads # check divisibility\n",
    "        self.MHA = nn.ModuleList([ AttentionHead_encoder(d, d_head, dropout) for _ in range(num_heads) ])\n",
    "        self.WO = nn.Linear(d, d) # combination layer\n",
    "        self.dropout = nn.Dropout(dropout)\n",
    "    def forward(self, H): # size(H)=[batch_size, seq_length, d]\n",
    "        batch_size = H.size(0); seq_length = H.size(1); d = H.size(2)\n",
    "        H_heads = []\n",
    "        # COMPLETE HERE \n",
    "        for ah in self.MHA:\n",
    "            H_heads.append(ah(H)) # [B, L, d_head]\n",
    "        \n",
    "        H_heads = torch.cat(H_heads, dim=2) # size=[batch_size, seq_length, d]            \n",
    "        H_heads = self.dropout(H_heads) # dropout attention activations\n",
    "        H = self.WO(H_heads) # size=[batch_size, seq_length, d]\n",
    "        return H\n",
    "\n",
    "class TransformerBlock_encoder(nn.Module):\n",
    "    def __init__(self, d, num_heads, dropout):\n",
    "        super().__init__()\n",
    "        self.LN_MHA = nn.LayerNorm(d)\n",
    "        self.LN_MLP = nn.LayerNorm(d)\n",
    "        self.MHA = MultipleAttentionHead_encoder(d, num_heads, dropout)\n",
    "        self.MLP = nn.Sequential(nn.Linear(d,4*d), nn.ReLU(), nn.Dropout(dropout), nn.Linear(4*d,d))   # d -> d\n",
    "    def forward(self, H): # size=[batch_size, seq_length, d]\n",
    "        # Self-attention encoder \n",
    "        # COMPLETE HERE \n",
    "        h_bar = H + self.MHA(self.LN_MHA(H)) # [B, L, d] + [B, L, d]\n",
    "        # MLP \n",
    "        # COMPLETE HERE \n",
    "        H = h_bar + self.MLP(self.LN_MLP(h_bar)) # [B, L, d] + [B, L, d]\n",
    "        \n",
    "        return H # size=[batch_size, seq_length, d]\n",
    "    \n",
    "class Transformer_encoder(nn.Module):\n",
    "    # L = L_in\n",
    "    def __init__(self, d, num_heads, num_blocks, seq_length, dropout):\n",
    "        super().__init__()\n",
    "        self.TR_Blocks = nn.ModuleList([ TransformerBlock_encoder(d, num_heads, dropout) for _ in range(num_blocks) ]) \n",
    "    def forward(self, batch_seq, pos_enc):  # batch_seq [L_in, B, d], pos_enc: [L_in, d]\n",
    "        H = batch_seq.transpose(1,0)        # [B, L_in, d]\n",
    "        batch_size = H.size(0); batch_len = H.size(1)\n",
    "        # Add positional encoding  \n",
    "        pos_enc = pos_enc.unsqueeze(dim=0)  # [1, L_in, d]\n",
    "        # COMPLETE HERE \n",
    "        H = H + pos_enc                     # [B, L_in, d]\n",
    "        \n",
    "        # Apply transformer blocks \n",
    "        for TR_Block in self.TR_Blocks:\n",
    "            H = TR_Block(H)                 # [B, L_in, d]\n",
    "        # Output\n",
    "        H = H.permute(1,0,2)  # [B, L_in, d] -> [L_in, B，D]\n",
    "        return H # return prediction scores for next token\n",
    "########### Encoder Transformer Block ###########\n",
    "    \n",
    "\n",
    "########### Decoder Transformer Block ###########\n",
    "class SelfAttention_AttentionHead_decoder(nn.Module):\n",
    "    def __init__(self, d, d_head, dropout):\n",
    "        super().__init__()\n",
    "        self.query = nn.Linear(d, d_head, bias=False) # query embedding layer\n",
    "        self.key = nn.Linear(d, d_head, bias=False) # key embedding layer\n",
    "        self.value = nn.Linear(d, d_head) # value embedding layer\n",
    "        self.dropout = nn.Dropout(dropout)\n",
    "    def forward(self, H): # size(H)=[batch_size, seq_length, d]\n",
    "        # here batch_len is target length\n",
    "        batch_size = H.size(0); batch_len = H.size(1); d = H.size(2)\n",
    "        # Masked self-attention decoder\n",
    "        # COMPLETE HERE \n",
    "        Q = self.query(H) # [B, L_out, d_head] \n",
    "        K = self.key(H)   # [B, L_out, d_head] \n",
    "        V = self.value(H) # [B, L_out, d_head] \n",
    "\n",
    "        attention_score = Q @ K.transpose(1, 2) / d ** 0.5 # [B, L_out, d_head] @ # [B, d_head, L_out] = [B, L_out, L_out] \n",
    "        mask = torch.tril(torch.ones(batch_len,batch_len)).long().to(device) # mask to use previous tokens only : { token(<=t) }, size=[batch_len,batch_len]\n",
    "        attention_score = attention_score.masked_fill(mask==0, value=float('-inf')) # softmax(-inf)=0 prevents using next tokens for prediction, size=(batch_size, batch_len, batch_len)\n",
    "        attention_score = torch.softmax(attention_score, dim=2) # sum weights = 1, size=[B, L_out, L_out]\n",
    "        attention_score = self.dropout(attention_score) # dropout attention scores\n",
    "        H_HA = attention_score @ V # softmax( QK^T / sqrt(d) ) V, [B, L_out, L_out] @ [B, L_out, d_head] => [B, L_out, d_head], size=[B, L_out, d_head]\n",
    "        # B, L_out, d\n",
    "        return H_HA # return prediction scores for next token\n",
    "    \n",
    "class SelfAttention_MultipleAttentionHead_decoder(nn.Module):\n",
    "    def __init__(self, d, num_heads, dropout):\n",
    "        super().__init__()\n",
    "        d_head = d // num_heads # dim_head = d // num_heads, usually dimension per head is 64\n",
    "        assert d == d_head * num_heads # check divisibility\n",
    "        self.MHA = nn.ModuleList([ SelfAttention_AttentionHead_decoder(d, d_head, dropout) for _ in range(num_heads) ])\n",
    "        self.WO = nn.Linear(d, d) # combination layer\n",
    "        self.dropout = nn.Dropout(dropout)\n",
    "    def forward(self, H):                               # size(H)=[B, L_out, d]\n",
    "        batch_size = H.size(0); seq_length = H.size(1)\n",
    "        H_heads = []\n",
    "        for HA_layer in self.MHA:\n",
    "            H_heads.append(HA_layer(H))                 # size=[B, L_out, d_head]\n",
    "        H_heads = torch.cat(H_heads, dim=2)             # size=[B, L_out, d]          \n",
    "        H_heads = self.dropout(H_heads)                 # dropout attention activations\n",
    "        H = self.WO(H_heads)                            # size=[B, L_out, d]\n",
    "        return H\n",
    "\n",
    "class CrossAttention_AttentionHead_decoder(nn.Module):\n",
    "    def __init__(self, d, d_head, dropout):\n",
    "        super().__init__()\n",
    "        self.query = nn.Linear(d, d_head, bias=False) # query embedding layer\n",
    "        self.key = nn.Linear(d, d_head, bias=False) # key embedding layer\n",
    "        self.value = nn.Linear(d, d_head) # value embedding layer\n",
    "        self.dropout = nn.Dropout(dropout)\n",
    "    def forward(self, H, Henc): # H: [B, L_out, d], Henc: [B, L_in, d]\n",
    "        # here batch_len is L_out\n",
    "        batch_size = H.size(0); batch_len = H.size(1); d = H.size(2)\n",
    "        # Masked cross-attention\n",
    "        # COMPLETE HERE \n",
    "        Q = self.query(H)     # [B, L_out, d_head]\n",
    "        K = self.key(Henc)    # [B, L_in, d_head]\n",
    "        V = self.value(Henc)  # [B, L_in, d_head]\n",
    "\n",
    "        attention_score = Q @ K.transpose(1, 2) / d ** 0.5 # [B, L_out, d_head] @ # [B, d_head, L_in] = [B, L_out, L_in] \n",
    "        # I think we don't need mask here but I dont know why TA's answer has\n",
    "        #mask = torch.tril(torch.ones(batch_len,batch_len)).long().to(device) # mask to use previous tokens only : { token(<=t) }, size=[batch_len,batch_len]\n",
    "        # attention_score = attention_score.masked_fill(mask==0, value=float('-inf')) # softmax(-inf)=0 prevents using next tokens for prediction, size=(batch_size, batch_len, batch_len)\n",
    "        attention_score = torch.softmax(attention_score, dim=2) # sum weights = 1, size=[B, L_out, L_in] \n",
    "        attention_score = self.dropout(attention_score) # dropout attention scores  [B, L_out, L_in] \n",
    "        H_HA = attention_score @ V # softmax( QK^T / sqrt(d) ) V, [B, L_out, L_in]  @ [B, L_in, d_head] => [B, L_out, d_head] , size=[B, L_out, d_head]\n",
    "\n",
    "        return H_HA # return prediction scores for next token [B, L_out, d_head]\n",
    "        \n",
    "class CrossAttention_MultipleAttentionHead_decoder(nn.Module):\n",
    "    def __init__(self, d, num_heads, dropout):\n",
    "        super().__init__()\n",
    "        d_head = d // num_heads                 # dim_head = d // num_heads, usually dimension per head is 64\n",
    "        assert d == d_head * num_heads          # check divisibility\n",
    "        self.MHA = nn.ModuleList([ CrossAttention_AttentionHead_decoder(d, d_head, dropout) for _ in range(num_heads) ])\n",
    "        self.WO = nn.Linear(d, d)               # combination layer\n",
    "        self.dropout = nn.Dropout(dropout)\n",
    "    def forward(self, H, Henc):                 # H: [B, L_out, d], Henc: [B, L_in, d]\n",
    "        batch_size = H.size(0); seq_length = H.size(1)\n",
    "        H_heads = []\n",
    "        for HA_layer in self.MHA:\n",
    "            H_heads.append(HA_layer(H, Henc))   # [B, L_out, d_head]\n",
    "        H_heads = torch.cat(H_heads, dim=2)     # [B, L_out, d] \n",
    "        H_heads = self.dropout(H_heads)         # dropout attention activations\n",
    "        H = self.WO(H_heads)                    # [B, L_out, d_head]\n",
    "        return H\n",
    "    \n",
    "class TransformerBlock_decoder(nn.Module):\n",
    "    def __init__(self, d, num_heads, dropout):\n",
    "        super().__init__()\n",
    "        self.LN_MHA_H = nn.LayerNorm(d)\n",
    "        self.LN_MHA_Henc = nn.LayerNorm(d)\n",
    "        self.LN_MLP = nn.LayerNorm(d)\n",
    "        self.SA_MHA = SelfAttention_MultipleAttentionHead_decoder(d, num_heads, dropout)\n",
    "        self.CA_MHA = CrossAttention_MultipleAttentionHead_decoder(d, num_heads, dropout)\n",
    "        self.MLP = nn.Sequential(nn.Linear(d,4*d), nn.ReLU(), nn.Dropout(dropout), nn.Linear(4*d,d))   \n",
    "    def forward(self, H, Henc):                 # H: [B, L_out, d], Henc: [B, L_in, d]\n",
    "        # Masked self-attention decoder\n",
    "        # COMPLETE HERE \n",
    "        H_bar = H + self.SA_MHA(self.LN_MHA_H(H))  # H_bar & H: [B, L_out, d]\n",
    "        \n",
    "        # Masked cross-attention decoder\n",
    "        # COMPLETE HERE \n",
    "        H_hat = H_bar + self.CA_MHA(self.LN_MHA_H(H_bar), self.LN_MHA_Henc(Henc))  # H_hat: [B, L_out, d]\n",
    "        \n",
    "        # MLP \n",
    "        # COMPLETE HERE \n",
    "        H = H_hat + self.MLP(self.LN_MLP(H_hat)) # H_hat: [B, L_out, d]\n",
    "        return H # H_hat: [B, L_out, d]\n",
    "           \n",
    "class Transformer_decoder(nn.Module):\n",
    "    def __init__(self, d, num_heads, num_blocks, seq_length, dropout):\n",
    "        super().__init__()\n",
    "        self.TR_Blocks = nn.ModuleList([ TransformerBlock_decoder(d, num_heads, dropout) for _ in range(num_blocks) ]) \n",
    "    \n",
    "    def forward(self, g_seq_out, h_enc_seq, pos_enc):   # g_seq_out: [L_out, B, d], h_enc_seq: [L_in, B, d], pos_enc: [L_out, d]\n",
    "        H = g_seq_out.transpose(1, 0)       # [B, L_out, d]\n",
    "        Henc = h_enc_seq.transpose(1, 0)    # [B, L_in, d]\n",
    "        batch_size = H.size(0); batch_len = H.size(1)\n",
    "        # Add positional encoding  \n",
    "        pos_enc = pos_enc.unsqueeze(dim=0)  # [1, L_out, d]\n",
    "        H = H + pos_enc                     # [B, L_out, d]\n",
    "        # Apply transformer blocks \n",
    "        for TR_Block in self.TR_Blocks:\n",
    "            H = TR_Block(H, Henc)           # H: [B, L_out, d] H_enc: [B, L_out, d] -> H: [B, L_out, d]\n",
    "        # Output\n",
    "        H = H.permute(1,0,2)                # H: [B, L_out, d] -> H: [L_out, B d]\n",
    "        return H # return prediction scores for next token\n",
    "########### Decoder Transformer Block ###########\n",
    "\n",
    "    \n",
    "class ANN(nn.Module):\n",
    "    \n",
    "    def __init__(self, d, num_heads, num_blocks, seq_length, dropout):\n",
    "        super(ANN, self).__init__()\n",
    "        self.encoder = Transformer_encoder(d, num_heads, num_blocks, seq_length, dropout)\n",
    "        self.decoder = Transformer_decoder(d, num_heads, num_blocks, seq_length, dropout)\n",
    "    \n",
    "    def forward(self, g_seq_in , g_seq_out, pos ):\n",
    "        # g_seq_in:  [L_in, B, d]\n",
    "        # g_seq_out: [L_out, B, d]\n",
    "        # pos:       [L_max, d]\n",
    "        h_enc_seq = self.encoder( g_seq_in , pos )              # size=[L_in, B, d], [30, 20, 128]\n",
    "        h_dec_seq = self.decoder( g_seq_out, h_enc_seq , pos )  # size=[L_out, B, d], [30, 20, 128]\n",
    "        return h_dec_seq \n",
    "    \n",
    "\n",
    "class attention_net(nn.Module):\n",
    "\n",
    "    def __init__(self, d, num_heads, num_blocks, seq_length, dropout):\n",
    "        super(attention_net, self).__init__()  \n",
    "        self.layer1 = nn.Embedding( vocab_size  , hidden_size  )\n",
    "        self.layer2 = ANN(d, num_heads, num_blocks, seq_length, dropout)\n",
    "        self.layer3 = nn.Linear(    hidden_size , vocab_size   )\n",
    "\n",
    "    def forward(self, word_seq_in, word_seq_out, pos ):\n",
    "        # word_seq_in:  [L_in, B] (input token IDs)\n",
    "        # word_seq_out: [L_out, B] (output token IDs)\n",
    "        # pos:          [L_max, d] (positional encoding table)\n",
    "        g_seq_in     =   self.layer1( word_seq_in )             # size=[L_in, B, d], [30, 20, 128]\n",
    "        g_seq_out     =   self.layer1( word_seq_out )           # size=[L_out, B, d], [30, 20, 128]\n",
    "        h_seq     =   self.layer2( g_seq_in , g_seq_out, pos )  # size=[L_out, B, d], [30, 20, 128] \n",
    "        score_seq =   self.layer3( h_seq )                      # size=[L_out, B, vocab_size]\n",
    "        return score_seq \n"
   ]
  },
  {
   "cell_type": "markdown",
   "metadata": {
    "id": "4gnTKxy9BbVr"
   },
   "source": [
    "### Build the net. Choose the hidden size to be 128 and the number of heads to be 16. \n",
    "### How many parameters in total?"
   ]
  },
  {
   "cell_type": "code",
   "execution_count": 26,
   "metadata": {
    "colab": {
     "base_uri": "https://localhost:8080/"
    },
    "executionInfo": {
     "elapsed": 601,
     "status": "ok",
     "timestamp": 1634566910385,
     "user": {
      "displayName": "Xavier Bresson",
      "photoUrl": "https://lh3.googleusercontent.com/a-/AOh14GgioGx5OdvAc1VASSVcYQ8NHiQo4PQ7B39ZSmys=s64",
      "userId": "14103767471123103792"
     },
     "user_tz": -480
    },
    "id": "zj7UdAZqrP1R",
    "outputId": "f57165f9-f358-486f-8fc3-b0f06555452d"
   },
   "outputs": [
    {
     "name": "stdout",
     "output_type": "stream",
     "text": [
      "attention_net(\n",
      "  (layer1): Embedding(10001, 128)\n",
      "  (layer2): ANN(\n",
      "    (encoder): Transformer_encoder(\n",
      "      (TR_Blocks): ModuleList(\n",
      "        (0-1): 2 x TransformerBlock_encoder(\n",
      "          (LN_MHA): LayerNorm((128,), eps=1e-05, elementwise_affine=True)\n",
      "          (LN_MLP): LayerNorm((128,), eps=1e-05, elementwise_affine=True)\n",
      "          (MHA): MultipleAttentionHead_encoder(\n",
      "            (MHA): ModuleList(\n",
      "              (0-15): 16 x AttentionHead_encoder(\n",
      "                (query): Linear(in_features=128, out_features=8, bias=False)\n",
      "                (key): Linear(in_features=128, out_features=8, bias=False)\n",
      "                (value): Linear(in_features=128, out_features=8, bias=True)\n",
      "                (dropout): Dropout(p=0.0, inplace=False)\n",
      "              )\n",
      "            )\n",
      "            (WO): Linear(in_features=128, out_features=128, bias=True)\n",
      "            (dropout): Dropout(p=0.0, inplace=False)\n",
      "          )\n",
      "          (MLP): Sequential(\n",
      "            (0): Linear(in_features=128, out_features=512, bias=True)\n",
      "            (1): ReLU()\n",
      "            (2): Dropout(p=0.0, inplace=False)\n",
      "            (3): Linear(in_features=512, out_features=128, bias=True)\n",
      "          )\n",
      "        )\n",
      "      )\n",
      "    )\n",
      "    (decoder): Transformer_decoder(\n",
      "      (TR_Blocks): ModuleList(\n",
      "        (0-1): 2 x TransformerBlock_decoder(\n",
      "          (LN_MHA_H): LayerNorm((128,), eps=1e-05, elementwise_affine=True)\n",
      "          (LN_MHA_Henc): LayerNorm((128,), eps=1e-05, elementwise_affine=True)\n",
      "          (LN_MLP): LayerNorm((128,), eps=1e-05, elementwise_affine=True)\n",
      "          (SA_MHA): SelfAttention_MultipleAttentionHead_decoder(\n",
      "            (MHA): ModuleList(\n",
      "              (0-15): 16 x SelfAttention_AttentionHead_decoder(\n",
      "                (query): Linear(in_features=128, out_features=8, bias=False)\n",
      "                (key): Linear(in_features=128, out_features=8, bias=False)\n",
      "                (value): Linear(in_features=128, out_features=8, bias=True)\n",
      "                (dropout): Dropout(p=0.0, inplace=False)\n",
      "              )\n",
      "            )\n",
      "            (WO): Linear(in_features=128, out_features=128, bias=True)\n",
      "            (dropout): Dropout(p=0.0, inplace=False)\n",
      "          )\n",
      "          (CA_MHA): CrossAttention_MultipleAttentionHead_decoder(\n",
      "            (MHA): ModuleList(\n",
      "              (0-15): 16 x CrossAttention_AttentionHead_decoder(\n",
      "                (query): Linear(in_features=128, out_features=8, bias=False)\n",
      "                (key): Linear(in_features=128, out_features=8, bias=False)\n",
      "                (value): Linear(in_features=128, out_features=8, bias=True)\n",
      "                (dropout): Dropout(p=0.0, inplace=False)\n",
      "              )\n",
      "            )\n",
      "            (WO): Linear(in_features=128, out_features=128, bias=True)\n",
      "            (dropout): Dropout(p=0.0, inplace=False)\n",
      "          )\n",
      "          (MLP): Sequential(\n",
      "            (0): Linear(in_features=128, out_features=512, bias=True)\n",
      "            (1): ReLU()\n",
      "            (2): Dropout(p=0.0, inplace=False)\n",
      "            (3): Linear(in_features=512, out_features=128, bias=True)\n",
      "          )\n",
      "        )\n",
      "      )\n",
      "    )\n",
      "  )\n",
      "  (layer3): Linear(in_features=128, out_features=10001, bias=True)\n",
      ")\n",
      "There are 3494417 (3.49 million) parameters in this neural network\n"
     ]
    }
   ],
   "source": [
    "hidden_size = 128 \n",
    "num_heads = 16\n",
    "num_blocks = 2\n",
    "seq_length = 100\n",
    "\n",
    "net = attention_net(hidden_size, num_heads, num_blocks, seq_length, dropout=0.0)\n",
    "print(net)\n",
    "utils.display_num_param(net)"
   ]
  },
  {
   "cell_type": "markdown",
   "metadata": {
    "id": "khaDFxmwBbVr"
   },
   "source": [
    "### Send the weights of the networks to the GPU"
   ]
  },
  {
   "cell_type": "code",
   "execution_count": 27,
   "metadata": {
    "executionInfo": {
     "elapsed": 1,
     "status": "ok",
     "timestamp": 1634566910938,
     "user": {
      "displayName": "Xavier Bresson",
      "photoUrl": "https://lh3.googleusercontent.com/a-/AOh14GgioGx5OdvAc1VASSVcYQ8NHiQo4PQ7B39ZSmys=s64",
      "userId": "14103767471123103792"
     },
     "user_tz": -480
    },
    "id": "3XX6XNnArP1S"
   },
   "outputs": [],
   "source": [
    "net = net.to(device)"
   ]
  },
  {
   "cell_type": "markdown",
   "metadata": {
    "id": "eecX1xVaBbVs"
   },
   "source": [
    "### Choose the loss to be the cross-entropy and the optimizer to be Adam, as well as the hyperparameters: \n",
    "* initial learning rate = 0.001\n",
    "* sequence length = 100"
   ]
  },
  {
   "cell_type": "code",
   "execution_count": 28,
   "metadata": {
    "executionInfo": {
     "elapsed": 2,
     "status": "ok",
     "timestamp": 1634566911994,
     "user": {
      "displayName": "Xavier Bresson",
      "photoUrl": "https://lh3.googleusercontent.com/a-/AOh14GgioGx5OdvAc1VASSVcYQ8NHiQo4PQ7B39ZSmys=s64",
      "userId": "14103767471123103792"
     },
     "user_tz": -480
    },
    "id": "8mRAllGrrP1S"
   },
   "outputs": [],
   "source": [
    "criterion = nn.CrossEntropyLoss()\n",
    "\n",
    "my_lr = 0.001\n",
    "seq_length = 100\n",
    "optimizer = torch.optim.Adam(net.parameters(), lr=my_lr)\n",
    "\n",
    "pos = generate_positional_encoding(seq_length, hidden_size).to(device) # size=(seq_length, hidden_dim)"
   ]
  },
  {
   "cell_type": "markdown",
   "metadata": {
    "id": "frtpNDBLBbVs"
   },
   "source": [
    "### Do 5 passes through the training set\n",
    "### Observe the train perplexity"
   ]
  },
  {
   "cell_type": "code",
   "execution_count": 29,
   "metadata": {
    "colab": {
     "base_uri": "https://localhost:8080/"
    },
    "executionInfo": {
     "elapsed": 61136,
     "status": "ok",
     "timestamp": 1634566974730,
     "user": {
      "displayName": "Xavier Bresson",
      "photoUrl": "https://lh3.googleusercontent.com/a-/AOh14GgioGx5OdvAc1VASSVcYQ8NHiQo4PQ7B39ZSmys=s64",
      "userId": "14103767471123103792"
     },
     "user_tz": -480
    },
    "id": "McQc1_xkBbVp",
    "outputId": "71cafe76-e1ff-4951-87b0-7962fd3e2c9c"
   },
   "outputs": [
    {
     "name": "stdout",
     "output_type": "stream",
     "text": [
      "epoch= 0 \t time= 4.271215200424194 \t lr= 0.001 \t exp(loss)= 3723.2157235638233\n",
      "epoch= 1 \t time= 8.349858045578003 \t lr= 0.001 \t exp(loss)= 673.5133838998547\n",
      "epoch= 2 \t time= 12.450402021408081 \t lr= 0.001 \t exp(loss)= 453.38824427978386\n",
      "epoch= 3 \t time= 16.79450297355652 \t lr= 0.001 \t exp(loss)= 371.8541335294012\n",
      "epoch= 4 \t time= 20.852574586868286 \t lr= 0.001 \t exp(loss)= 307.7660698980238\n",
      "epoch= 5 \t time= 24.89178442955017 \t lr= 0.001 \t exp(loss)= 254.49373490395504\n",
      "epoch= 6 \t time= 28.935091733932495 \t lr= 0.001 \t exp(loss)= 209.27383666106348\n",
      "epoch= 7 \t time= 32.996251821517944 \t lr= 0.001 \t exp(loss)= 170.00844172662713\n",
      "epoch= 8 \t time= 37.16367149353027 \t lr= 0.001 \t exp(loss)= 136.46126507394268\n",
      "epoch= 9 \t time= 41.20633149147034 \t lr= 0.001 \t exp(loss)= 109.33712269769273\n",
      "epoch= 10 \t time= 45.52356219291687 \t lr= 0.001 \t exp(loss)= 87.84456223400461\n",
      "epoch= 11 \t time= 49.56982064247131 \t lr= 0.001 \t exp(loss)= 70.92855936630086\n",
      "epoch= 12 \t time= 53.53654909133911 \t lr= 0.001 \t exp(loss)= 56.1852445556586\n",
      "epoch= 13 \t time= 57.849939584732056 \t lr= 0.001 \t exp(loss)= 45.37675789755993\n",
      "epoch= 14 \t time= 62.146544456481934 \t lr= 0.001 \t exp(loss)= 36.73055047049558\n",
      "epoch= 15 \t time= 66.39883375167847 \t lr= 0.001 \t exp(loss)= 29.902398796630585\n",
      "epoch= 16 \t time= 70.74154138565063 \t lr= 0.001 \t exp(loss)= 25.46915407284801\n",
      "epoch= 17 \t time= 75.06841468811035 \t lr= 0.001 \t exp(loss)= 21.431992490124696\n",
      "epoch= 18 \t time= 79.76628160476685 \t lr= 0.001 \t exp(loss)= 17.827388342817894\n",
      "epoch= 19 \t time= 83.76066732406616 \t lr= 0.001 \t exp(loss)= 15.297929173836442\n",
      "epoch= 20 \t time= 87.99506616592407 \t lr= 0.001 \t exp(loss)= 13.20956862105309\n",
      "epoch= 21 \t time= 92.3596601486206 \t lr= 0.001 \t exp(loss)= 11.689453712248177\n",
      "epoch= 22 \t time= 96.63940191268921 \t lr= 0.001 \t exp(loss)= 10.236409837654223\n",
      "epoch= 23 \t time= 100.95744752883911 \t lr= 0.001 \t exp(loss)= 9.33811439755298\n",
      "epoch= 24 \t time= 105.23630976676941 \t lr= 0.001 \t exp(loss)= 8.230113586656534\n",
      "epoch= 25 \t time= 109.18592309951782 \t lr= 0.001 \t exp(loss)= 7.205099042513944\n",
      "epoch= 26 \t time= 113.12044215202332 \t lr= 0.001 \t exp(loss)= 6.160501272985228\n",
      "epoch= 27 \t time= 117.26689863204956 \t lr= 0.001 \t exp(loss)= 5.477189087340314\n",
      "epoch= 28 \t time= 121.3042049407959 \t lr= 0.001 \t exp(loss)= 4.800681293421055\n",
      "epoch= 29 \t time= 125.23830795288086 \t lr= 0.001 \t exp(loss)= 4.305436558429691\n",
      "epoch= 30 \t time= 129.42479062080383 \t lr= 0.001 \t exp(loss)= 3.9160325837126577\n",
      "epoch= 31 \t time= 133.70874309539795 \t lr= 0.001 \t exp(loss)= 3.5250426910624055\n",
      "epoch= 32 \t time= 137.69517493247986 \t lr= 0.001 \t exp(loss)= 3.231186453622626\n",
      "epoch= 33 \t time= 142.16739082336426 \t lr= 0.001 \t exp(loss)= 2.934531459412337\n",
      "epoch= 34 \t time= 147.0587100982666 \t lr= 0.001 \t exp(loss)= 2.6502503843810583\n",
      "epoch= 35 \t time= 151.52541255950928 \t lr= 0.001 \t exp(loss)= 2.4992072606384275\n",
      "epoch= 36 \t time= 156.1509907245636 \t lr= 0.001 \t exp(loss)= 2.4200650956577694\n",
      "epoch= 37 \t time= 160.78503608703613 \t lr= 0.001 \t exp(loss)= 2.37357354315717\n",
      "epoch= 38 \t time= 165.09347200393677 \t lr= 0.001 \t exp(loss)= 2.252482331408864\n",
      "epoch= 39 \t time= 169.06986904144287 \t lr= 0.001 \t exp(loss)= 2.0911880778087037\n",
      "epoch= 40 \t time= 173.29167103767395 \t lr= 0.001 \t exp(loss)= 1.9657227350120872\n",
      "epoch= 41 \t time= 177.8271930217743 \t lr= 0.001 \t exp(loss)= 1.8292509823148462\n",
      "epoch= 42 \t time= 182.11871933937073 \t lr= 0.001 \t exp(loss)= 1.7285080118135183\n",
      "epoch= 43 \t time= 186.15539836883545 \t lr= 0.001 \t exp(loss)= 1.668251405269145\n",
      "epoch= 44 \t time= 190.27496075630188 \t lr= 0.001 \t exp(loss)= 1.6535191037554093\n",
      "epoch= 45 \t time= 194.27895283699036 \t lr= 0.001 \t exp(loss)= 1.5770495690712776\n",
      "epoch= 46 \t time= 198.31547284126282 \t lr= 0.001 \t exp(loss)= 1.5100155321153765\n",
      "epoch= 47 \t time= 202.21904683113098 \t lr= 0.001 \t exp(loss)= 1.4490766693920876\n",
      "epoch= 48 \t time= 206.23889446258545 \t lr= 0.001 \t exp(loss)= 1.4331887251259392\n",
      "epoch= 49 \t time= 210.52532386779785 \t lr= 0.001 \t exp(loss)= 1.4014457396769417\n"
     ]
    }
   ],
   "source": [
    "start=time.time()\n",
    "for epoch in range(50):\n",
    "    \n",
    "    # set the running quantities to zero at the beginning of the epoch\n",
    "    running_loss=0\n",
    "    num_batches=0    \n",
    "    doc_len = train_data.size(0)\n",
    "    for count in range( 0 , doc_len-seq_length ,  seq_length): \n",
    "        \n",
    "        # Set the gradients to zeros\n",
    "        optimizer.zero_grad()\n",
    "        \n",
    "        # create a minibatch\n",
    "        minibatch_seq_in = train_data[count:count+seq_length]\n",
    "        start_token = torch.tensor([vocab_size-1]).repeat(1,bs)\n",
    "        minibatch_seq_out = torch.cat((start_token, train_data[count+1:count+seq_length]))\n",
    "        minibatch_label = train_data[count+1:count+seq_length+1]\n",
    "        \n",
    "        # send them to the gpu\n",
    "        minibatch_seq_in = minibatch_seq_in.to(device)\n",
    "        minibatch_seq_out = minibatch_seq_out.to(device)\n",
    "        minibatch_label = minibatch_label.to(device)\n",
    "        \n",
    "        # forward the minibatch through the net        \n",
    "        scores = net( minibatch_seq_in, minibatch_seq_out, pos ) # size=(seq_length, bs, vocab_size)\n",
    "\n",
    "        # reshape the scores and labels to huge batch of size bs*seq_length\n",
    "        scores = scores.view(  bs*seq_length , vocab_size) # size=(seq_length.bs, vocab_size)\n",
    "        minibatch_label = minibatch_label.view(  bs*seq_length ) # size=(seq_length.bs, vocab_size)\n",
    "       \n",
    "        # Compute the average of the losses of the data points in this huge batch\n",
    "        loss = criterion(scores, minibatch_label)\n",
    "        \n",
    "        # backward pass to compute dL/dR, dL/dV and dL/dW\n",
    "        loss.backward()\n",
    "\n",
    "        # do one step of stochastic gradient descent: R=R-lr(dL/dR), V=V-lr(dL/dV), ...\n",
    "        optimizer.step()\n",
    "        \n",
    "        # update the running loss  \n",
    "        running_loss += loss.item()\n",
    "        num_batches += 1\n",
    "        \n",
    "    # compute stats for the full training set\n",
    "    total_loss = running_loss/num_batches\n",
    "    elapsed = time.time()-start\n",
    "    \n",
    "    if not epoch%1:\n",
    "        print('epoch=',epoch, '\\t time=', elapsed,'\\t lr=', my_lr, '\\t exp(loss)=',  math.exp(total_loss))\n"
   ]
  },
  {
   "cell_type": "markdown",
   "metadata": {
    "id": "RRt3XQhgrP1T"
   },
   "source": [
    "### Check if the network was successful "
   ]
  },
  {
   "cell_type": "code",
   "execution_count": 24,
   "metadata": {
    "colab": {
     "base_uri": "https://localhost:8080/"
    },
    "executionInfo": {
     "elapsed": 449,
     "status": "ok",
     "timestamp": 1634567074104,
     "user": {
      "displayName": "Xavier Bresson",
      "photoUrl": "https://lh3.googleusercontent.com/a-/AOh14GgioGx5OdvAc1VASSVcYQ8NHiQo4PQ7B39ZSmys=s64",
      "userId": "14103767471123103792"
     },
     "user_tz": -480
    },
    "id": "49t0myXb6aCy",
    "outputId": "7946e636-dad9-410e-ea89-241124343edc"
   },
   "outputs": [
    {
     "name": "stdout",
     "output_type": "stream",
     "text": [
      "Input sequence: tensor([  64, 1519,   24,   32, 5166, 3719,   48, 1705, 3940,   32,   26, 1485,\n",
      "          42, 2774, 2196,   32, 5166,   64,   26,  270, 1522, 1978,  108,   32,\n",
      "         833, 2876, 2810, 1342,   32,   26, 2072, 5167,   42, 5164,   26,   98,\n",
      "         108,   35, 5168, 3755,  636,   32, 5159,   48,  729,   64,   65, 2813,\n",
      "        2217,  591,  424,   32, 2476,   83,   93, 1040,  432, 3303,   24,   32,\n",
      "         929,  887,   32,  101, 5166,  546,  315,  895,  108, 1035, 3719,  243,\n",
      "          93,  504,  874,  566, 5169,   64, 5170, 5171,  169,   26, 5166,  156,\n",
      "        5172,   24,   32, 5166,   98,   93,  152, 1881,  135,  623, 2358,   32,\n",
      "          26, 1978,  566,  895])\n",
      "\n",
      "Expected output sequence: tensor([1519,   24,   32, 5166, 3719,   48, 1705, 3940,   32,   26, 1485,   42,\n",
      "        2774, 2196,   32, 5166,   64,   26,  270, 1522, 1978,  108,   32,  833,\n",
      "        2876, 2810, 1342,   32,   26, 2072, 5167,   42, 5164,   26,   98,  108,\n",
      "          35, 5168, 3755,  636,   32, 5159,   48,  729,   64,   65, 2813, 2217,\n",
      "         591,  424,   32, 2476,   83,   93, 1040,  432, 3303,   24,   32,  929,\n",
      "         887,   32,  101, 5166,  546,  315,  895,  108, 1035, 3719,  243,   93,\n",
      "         504,  874,  566, 5169,   64, 5170, 5171,  169,   26, 5166,  156, 5172,\n",
      "          24,   32, 5166,   98,   93,  152, 1881,  135,  623, 2358,   32,   26,\n",
      "        1978,  566,  895,   32])\n",
      "\n",
      "Predicted output sequence: tensor([  32,   24,   32, 5166, 3719,   48, 1705, 3940,   32,   26, 1485,   42,\n",
      "        2774, 2196,   32, 5166,   64,   26,   35, 1522, 1978,  108,   32,  833,\n",
      "        2876, 2810, 1342,   32,   26, 2072, 5167,   42, 5164,   26, 1522,  108,\n",
      "         227, 5168, 3755,  636,   32, 5159,   48,  729,   64,   65, 2813, 2217,\n",
      "         591,  424,   32, 2476,   83,   93, 1120,  432, 3303,   24,   32,   26,\n",
      "         887,   32,  101, 5166,  546,  315,  895,  108, 1035, 3719,  243,   93,\n",
      "         152,  874,  566, 5169,   64, 5170, 5171,  169,   26, 5166,  156, 5172,\n",
      "          24,   32, 5166,   98,   93,  152, 1881,  135,  623, 2358,   32,   26,\n",
      "          26,  566,  895,   32])\n"
     ]
    }
   ],
   "source": [
    "minibatch_seq_in = train_data[count:count+seq_length, 1].unsqueeze(1).to(device)\n",
    "print('Input sequence:', minibatch_seq_in[:,0])\n",
    "start_token = torch.tensor([vocab_size-1]).repeat(1,bs).to(device)\n",
    "minibatch_seq_out = torch.cat((start_token, train_data[count+1:count+seq_length].to(device)))\n",
    "minibatch_seq_out = minibatch_seq_out[:,1].unsqueeze(1)\n",
    "minibatch_label = train_data[count+1:count+seq_length+1,1].unsqueeze(1).to(device)\n",
    "print('\\nExpected output sequence:', minibatch_label[:,0])\n",
    "pos = generate_positional_encoding(seq_length, hidden_size) # size=(seq_length, hidden_dim) \n",
    "pos = pos.to(device)\n",
    "scores = net( minibatch_seq_in, minibatch_seq_out, pos ) # size=(seq_length, bs, vocab_size)\n",
    "seq = scores.squeeze().argmax(dim=1)\n",
    "print('\\nPredicted output sequence:', seq)\n",
    "            "
   ]
  },
  {
   "cell_type": "code",
   "execution_count": null,
   "metadata": {
    "executionInfo": {
     "elapsed": 18,
     "status": "ok",
     "timestamp": 1634566736663,
     "user": {
      "displayName": "Xavier Bresson",
      "photoUrl": "https://lh3.googleusercontent.com/a-/AOh14GgioGx5OdvAc1VASSVcYQ8NHiQo4PQ7B39ZSmys=s64",
      "userId": "14103767471123103792"
     },
     "user_tz": -480
    },
    "id": "VWXXTLvwVaDc"
   },
   "outputs": [],
   "source": []
  },
  {
   "cell_type": "code",
   "execution_count": null,
   "metadata": {
    "executionInfo": {
     "elapsed": 19,
     "status": "ok",
     "timestamp": 1634566736664,
     "user": {
      "displayName": "Xavier Bresson",
      "photoUrl": "https://lh3.googleusercontent.com/a-/AOh14GgioGx5OdvAc1VASSVcYQ8NHiQo4PQ7B39ZSmys=s64",
      "userId": "14103767471123103792"
     },
     "user_tz": -480
    },
    "id": "HxNkId08BbVv"
   },
   "outputs": [],
   "source": []
  }
 ],
 "metadata": {
  "accelerator": "GPU",
  "colab": {
   "collapsed_sections": [],
   "name": "transformer_translation.ipynb",
   "provenance": []
  },
  "kernelspec": {
   "display_name": "torch-py310",
   "language": "python",
   "name": "python3"
  },
  "language_info": {
   "codemirror_mode": {
    "name": "ipython",
    "version": 3
   },
   "file_extension": ".py",
   "mimetype": "text/x-python",
   "name": "python",
   "nbconvert_exporter": "python",
   "pygments_lexer": "ipython3",
   "version": "3.10.16"
  }
 },
 "nbformat": 4,
 "nbformat_minor": 4
}
