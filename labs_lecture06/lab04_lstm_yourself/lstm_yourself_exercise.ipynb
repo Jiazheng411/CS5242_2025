{
 "cells": [
  {
   "cell_type": "markdown",
   "metadata": {},
   "source": [
    "# Lab 04: LSTM yourself - exercise"
   ]
  },
  {
   "cell_type": "code",
   "execution_count": null,
   "metadata": {},
   "outputs": [],
   "source": [
    "# For Google Colaboratory\n",
    "import sys, os\n",
    "if 'google.colab' in sys.modules:\n",
    "    # mount google drive\n",
    "    from google.colab import drive\n",
    "    drive.mount('/content/gdrive')\n",
    "    path_to_file = '/content/gdrive/My Drive/CS5242_2025_codes/labs_lecture06/lab04_lstm_yourself'\n",
    "    print(path_to_file)\n",
    "    # change current path to the folder containing \"file_name\"\n",
    "    os.chdir(path_to_file)\n",
    "    !pwd"
   ]
  },
  {
   "cell_type": "code",
   "execution_count": 1,
   "metadata": {},
   "outputs": [],
   "source": [
    "import torch\n",
    "import torch.nn.functional as F\n",
    "import torch.nn as nn\n",
    "import math\n",
    "import time\n",
    "import utils"
   ]
  },
  {
   "cell_type": "markdown",
   "metadata": {},
   "source": [
    "### With or without GPU?\n",
    "\n",
    "It is recommended to run this code on GPU:<br> \n",
    "* Time for 1 epoch on CPU : 274 sec ( 4.56 min)<br> \n",
    "* Time for 1 epoch on GPU : 10.1 sec w/ GeForce GTX 1080 Ti <br>"
   ]
  },
  {
   "cell_type": "code",
   "execution_count": 2,
   "metadata": {},
   "outputs": [
    {
     "name": "stdout",
     "output_type": "stream",
     "text": [
      "cpu\n"
     ]
    }
   ],
   "source": [
    "device= torch.device(\"cuda\")\n",
    "device= torch.device(\"cpu\")\n",
    "print(device)\n",
    "\n",
    "if torch.cuda.is_available():\n",
    "    print('cuda available with GPU:',torch.cuda.get_device_name(0))"
   ]
  },
  {
   "cell_type": "markdown",
   "metadata": {},
   "source": [
    "### Download Penn Tree Bank\n",
    "\n",
    "The tensor train_data consists of 20 columns of 46,479 words.<br>\n",
    "The tensor test_data consists of 20 columns of 4,121 words."
   ]
  },
  {
   "cell_type": "code",
   "execution_count": 3,
   "metadata": {},
   "outputs": [
    {
     "name": "stdout",
     "output_type": "stream",
     "text": [
      "torch.Size([46479, 20])\n",
      "torch.Size([4121, 20])\n"
     ]
    }
   ],
   "source": [
    "from utils import check_ptb_dataset_exists\n",
    "data_path=check_ptb_dataset_exists()\n",
    "\n",
    "train_data  =  torch.load(data_path+'ptb/train_data.pt')\n",
    "test_data   =  torch.load(data_path+'ptb/test_data.pt')\n",
    "\n",
    "print(  train_data.size()  )\n",
    "print(  test_data.size()   )"
   ]
  },
  {
   "cell_type": "markdown",
   "metadata": {},
   "source": [
    "### Some constants associated with the data set"
   ]
  },
  {
   "cell_type": "code",
   "execution_count": 4,
   "metadata": {},
   "outputs": [],
   "source": [
    "bs = 20\n",
    "\n",
    "vocab_size = 10000\n"
   ]
  },
  {
   "cell_type": "markdown",
   "metadata": {},
   "source": [
    "### Make a LTSM class\n",
    "\n",
    "Implement the vanilla RNN network without PyTorch:\n",
    "\n",
    "$$\n",
    "\\begin{aligned}\n",
    "&\\tilde{h}_t = \\tanh ( Rh_{t-1} + V g_t) \\\\\n",
    "&c_t = \\theta_t \\odot c_{t-1} + \\eta_t \\odot \\tilde{h}_t \\\\\n",
    "&h_t = \\psi_t \\odot \\tanh (c_t) \\\\\n",
    "&\\textrm{with}\\\\\n",
    "&\\theta_t = \\textrm{sigmoid}(Ah_{t-1}+Bg_t)\\\\\n",
    "&\\eta_t = \\textrm{sigmoid}(Ch_{t-1}+Dg_t)\\\\\n",
    "&\\psi_t = \\textrm{sigmoid}(Eh_{t-1}+Fg_t)\\\\\n",
    "\\end{aligned}\n",
    "$$\n",
    "\n"
   ]
  },
  {
   "cell_type": "code",
   "execution_count": null,
   "metadata": {},
   "outputs": [],
   "source": [
    "class my_LSTM(nn.Module):\n",
    "    \n",
    "    def __init__(self, hidden_size):\n",
    "        super().__init__()\n",
    "        self.R = nn.Linear(hidden_size, hidden_size)\n",
    "        self.V = nn.Linear(hidden_size, hidden_size)\n",
    "        self.A = nn.Linear(hidden_size, hidden_size)\n",
    "        self.B = nn.Linear(hidden_size, hidden_size)\n",
    "        self.C = nn.Linear(hidden_size, hidden_size)\n",
    "        self.D = nn.Linear(hidden_size, hidden_size)\n",
    "        self.E = nn.Linear(hidden_size, hidden_size)\n",
    "        self.F = nn.Linear(hidden_size, hidden_size)\n",
    "        # COMPLETE HERE \n",
    "        \n",
    "    def forward(self, g_seq , hc_init ):\n",
    "        # COMPLETE HERE \n",
    "        h_seq_ls = []\n",
    "        h_prev, c_prev = hc_init\n",
    "        t = len(g_seq)\n",
    "        for i in range(t):\n",
    "            h_tail_t = torch.tanh(self.R(h_prev) + self.V(g_seq[i]))\n",
    "            theta_t = torch.sigmoid(self.A(h_prev) + self.B(g_seq[i]))\n",
    "            yita_t = torch.sigmoid(self.C(h_prev) + self.D(g_seq[i]))\n",
    "            phi_t = torch.sigmoid(self.E(h_prev) + self.F(g_seq[i]))\n",
    "            c_t = theta_t * c_prev + yita_t * h_tail_t\n",
    "            h_t = phi_t * torch.tanh(c_t)\n",
    "            h_seq_ls.append(h_t)\n",
    "            c_prev = c_t\n",
    "        h_final = h_t\n",
    "        c_final = c_t\n",
    "        h_seq = torch.stack(h_seq_ls)        \n",
    "        return h_seq , (h_final,c_final)\n",
    "\n",
    "\n",
    "class my_LSTM_answer(nn.Module):\n",
    "    \n",
    "    def __init__(self, hidden_size):\n",
    "        super().__init__()\n",
    "        self.R = nn.Linear( hidden_size , hidden_size )\n",
    "        self.V = nn.Linear( hidden_size , hidden_size )\n",
    "        self.A = nn.Linear( hidden_size , hidden_size )\n",
    "        self.B = nn.Linear( hidden_size , hidden_size )\n",
    "        self.C = nn.Linear( hidden_size , hidden_size )\n",
    "        self.D = nn.Linear( hidden_size , hidden_size )\n",
    "        self.E = nn.Linear( hidden_size , hidden_size )\n",
    "        self.F = nn.Linear( hidden_size , hidden_size )\n",
    "        \n",
    "    def forward(self, g_seq , hc_init ):\n",
    "        h_init, c_init = hc_init\n",
    "        h_t_pre = h_init\n",
    "        c_t_pre = c_init\n",
    "        V_g_all_t = self.V(g_seq) \n",
    "        B_g_all_t = self.B(g_seq) \n",
    "        D_g_all_t = self.D(g_seq) \n",
    "        F_g_all_t = self.F(g_seq) \n",
    "        h_seq = []\n",
    "        c_seq = []\n",
    "        num_t = g_seq.size(0)\n",
    "        for t in range(num_t):\n",
    "            R_h_t_pre = self.R(h_t_pre) \n",
    "            A_h_t_pre = self.A(h_t_pre) \n",
    "            C_h_t_pre = self.C(h_t_pre) \n",
    "            E_h_t_pre = self.E(h_t_pre) \n",
    "            theta_t = torch.sigmoid( A_h_t_pre + B_g_all_t[t] )\n",
    "            eta_t   = torch.sigmoid( C_h_t_pre + D_g_all_t[t] )\n",
    "            psi_t   = torch.sigmoid( E_h_t_pre + F_g_all_t[t] )\n",
    "            h_tilde_t = torch.tanh( R_h_t_pre + V_g_all_t[t] )\n",
    "            c_t = theta_t * c_t_pre + eta_t * h_tilde_t\n",
    "            h_t = psi_t * torch.tanh( c_t )\n",
    "            h_seq.append(h_t)\n",
    "            c_seq.append(c_t)\n",
    "            h_t_pre = h_t\n",
    "            c_t_pre = c_t\n",
    "        h_seq = torch.cat(h_seq) \n",
    "        h_final = h_seq[-1,:,:].unsqueeze(0) \n",
    "        c_final = c_t\n",
    "        return h_seq , (h_final,c_final)\n",
    "    \n",
    "class three_layer_recurrent_net(nn.Module):\n",
    "\n",
    "    def __init__(self, hidden_size):\n",
    "        super(three_layer_recurrent_net, self).__init__()\n",
    "        \n",
    "        self.layer1 = nn.Embedding( vocab_size  , hidden_size  )\n",
    "        self.layer2 = my_LSTM( hidden_size )\n",
    "        self.layer3 = nn.Linear(    hidden_size , vocab_size   )\n",
    "\n",
    "        \n",
    "    def forward(self, word_seq, h_init, c_init ):\n",
    "        \n",
    "        g_seq                      =   self.layer1( word_seq )  \n",
    "        h_seq , (h_final,c_final)  =   self.layer2( g_seq , (h_init,c_init) )     \n",
    "        score_seq                  =   self.layer3( h_seq )\n",
    "        \n",
    "        return score_seq,  h_final , c_final\n"
   ]
  },
  {
   "cell_type": "markdown",
   "metadata": {},
   "source": [
    "### Build the net. Choose the hidden size to be 300. How many parameters in total?"
   ]
  },
  {
   "cell_type": "code",
   "execution_count": 13,
   "metadata": {},
   "outputs": [
    {
     "name": "stdout",
     "output_type": "stream",
     "text": [
      "three_layer_recurrent_net(\n",
      "  (layer1): Embedding(10000, 300)\n",
      "  (layer2): my_LSTM(\n",
      "    (R): Linear(in_features=300, out_features=300, bias=True)\n",
      "    (V): Linear(in_features=300, out_features=300, bias=True)\n",
      "    (A): Linear(in_features=300, out_features=300, bias=True)\n",
      "    (B): Linear(in_features=300, out_features=300, bias=True)\n",
      "    (C): Linear(in_features=300, out_features=300, bias=True)\n",
      "    (D): Linear(in_features=300, out_features=300, bias=True)\n",
      "    (E): Linear(in_features=300, out_features=300, bias=True)\n",
      "    (F): Linear(in_features=300, out_features=300, bias=True)\n",
      "  )\n",
      "  (layer3): Linear(in_features=300, out_features=10000, bias=True)\n",
      ")\n",
      "There are 6732400 (6.73 million) parameters in this neural network\n"
     ]
    }
   ],
   "source": [
    "hidden_size=300\n",
    "\n",
    "net = three_layer_recurrent_net( hidden_size )\n",
    "\n",
    "print(net)\n",
    "\n",
    "utils.display_num_param(net)"
   ]
  },
  {
   "cell_type": "markdown",
   "metadata": {},
   "source": [
    "### Send the weights of the networks to the GPU"
   ]
  },
  {
   "cell_type": "code",
   "execution_count": 14,
   "metadata": {},
   "outputs": [],
   "source": [
    "net = net.to(device)"
   ]
  },
  {
   "cell_type": "markdown",
   "metadata": {},
   "source": [
    "### Set up manually the weights of the embedding module and Linear module"
   ]
  },
  {
   "cell_type": "code",
   "execution_count": 15,
   "metadata": {},
   "outputs": [
    {
     "name": "stdout",
     "output_type": "stream",
     "text": [
      "\n"
     ]
    }
   ],
   "source": [
    "net.layer1.weight.data.uniform_(-0.1, 0.1)\n",
    "\n",
    "net.layer3.weight.data.uniform_(-0.1, 0.1)\n",
    "\n",
    "print('')"
   ]
  },
  {
   "cell_type": "markdown",
   "metadata": {},
   "source": [
    "### Choose the criterion, as well as the following important hyperparameters: \n",
    "* initial learning rate = 5\n",
    "* sequence length = 35"
   ]
  },
  {
   "cell_type": "code",
   "execution_count": 16,
   "metadata": {},
   "outputs": [],
   "source": [
    "criterion = nn.CrossEntropyLoss()\n",
    "\n",
    "my_lr = 5\n",
    "\n",
    "seq_length = 35"
   ]
  },
  {
   "cell_type": "markdown",
   "metadata": {},
   "source": [
    "### Function to evaluate the network on the test set"
   ]
  },
  {
   "cell_type": "code",
   "execution_count": 17,
   "metadata": {},
   "outputs": [],
   "source": [
    "def eval_on_test_set():\n",
    "\n",
    "    running_loss=0\n",
    "    num_batches=0    \n",
    "       \n",
    "    h = torch.zeros(1, bs, hidden_size)\n",
    "    c = torch.zeros(1, bs, hidden_size)\n",
    "   \n",
    "    h=h.to(device)\n",
    "    c=c.to(device)\n",
    "       \n",
    "    for count in range( 0 , 4120-seq_length ,  seq_length) :\n",
    "               \n",
    "        minibatch_data =  test_data[ count   : count+seq_length   ]\n",
    "        minibatch_label = test_data[ count+1 : count+seq_length+1 ]\n",
    "        \n",
    "        minibatch_data=minibatch_data.to(device)\n",
    "        minibatch_label=minibatch_label.to(device)\n",
    "                                  \n",
    "        scores, h, c  = net( minibatch_data, h , c)\n",
    "        \n",
    "        minibatch_label =   minibatch_label.view(  bs*seq_length ) \n",
    "        scores          =            scores.view(  bs*seq_length , vocab_size)\n",
    "        \n",
    "        loss = criterion(  scores ,  minibatch_label )    \n",
    "        \n",
    "        h=h.detach()\n",
    "        c=c.detach()\n",
    "            \n",
    "        running_loss += loss.item()\n",
    "        num_batches += 1        \n",
    "    \n",
    "    total_loss = running_loss/num_batches \n",
    "    print('test: exp(loss) = ', math.exp(total_loss)  )\n",
    "        "
   ]
  },
  {
   "cell_type": "markdown",
   "metadata": {},
   "source": [
    "### Do 8 passes through the training set."
   ]
  },
  {
   "cell_type": "code",
   "execution_count": 18,
   "metadata": {},
   "outputs": [
    {
     "name": "stdout",
     "output_type": "stream",
     "text": [
      "\n",
      "epoch= 0 \t time= 528.7225732803345 \t lr= 5 \t exp(loss)= 314.15647016072296\n",
      "test: exp(loss) =  199.53680626532625\n",
      "\n",
      "epoch= 1 \t time= 799.5920858383179 \t lr= 5 \t exp(loss)= 148.54531935927398\n",
      "test: exp(loss) =  153.88531839551482\n",
      "\n",
      "epoch= 2 \t time= 1072.3411841392517 \t lr= 1.6666666666666667 \t exp(loss)= 97.92192220499167\n",
      "test: exp(loss) =  132.694059097334\n",
      "\n",
      "epoch= 3 \t time= 1339.2665040493011 \t lr= 0.5555555555555556 \t exp(loss)= 82.1814306374303\n",
      "test: exp(loss) =  127.1877796745336\n",
      "\n",
      "epoch= 4 \t time= 1662.5641515254974 \t lr= 0.1851851851851852 \t exp(loss)= 76.74766216848371\n",
      "test: exp(loss) =  124.93756630029408\n",
      "\n",
      "epoch= 5 \t time= 1935.4638359546661 \t lr= 0.0617283950617284 \t exp(loss)= 74.76642236009587\n",
      "test: exp(loss) =  124.04009122828424\n",
      "\n",
      "epoch= 6 \t time= 2201.931361913681 \t lr= 0.0205761316872428 \t exp(loss)= 74.04428061736624\n",
      "test: exp(loss) =  123.74754522711976\n",
      "\n",
      "epoch= 7 \t time= 2466.529081583023 \t lr= 0.006858710562414266 \t exp(loss)= 73.7893102487923\n",
      "test: exp(loss) =  123.66433844531251\n"
     ]
    }
   ],
   "source": [
    "start=time.time()\n",
    "\n",
    "for epoch in range(8):\n",
    "    \n",
    "    # divide the learning rate by 3 except after the first epoch\n",
    "    if epoch >= 2:\n",
    "        my_lr = my_lr / 3\n",
    "    \n",
    "    # create a new optimizer at the beginning of each epoch: give the current learning rate.   \n",
    "    optimizer=torch.optim.SGD( net.parameters() , lr=my_lr )\n",
    "        \n",
    "    # set the running quatities to zero at the beginning of the epoch\n",
    "    running_loss=0\n",
    "    num_batches=0    \n",
    "       \n",
    "    # set the initial h and c to be the zero vector\n",
    "    h = torch.zeros(1, bs, hidden_size)\n",
    "    c = torch.zeros(1, bs, hidden_size)\n",
    "\n",
    "    # send them to the gpu    \n",
    "    h=h.to(device)\n",
    "    c=c.to(device)\n",
    "    \n",
    "    for count in range( 0 , 46478-seq_length ,  seq_length):\n",
    "        \n",
    "        # Set the gradients to zeros\n",
    "        optimizer.zero_grad()\n",
    "        \n",
    "        # create a minibatch\n",
    "        minibatch_data =  train_data[ count   : count+seq_length   ]\n",
    "        minibatch_label = train_data[ count+1 : count+seq_length+1 ]        \n",
    "        \n",
    "        # send them to the gpu\n",
    "        minibatch_data=minibatch_data.to(device)\n",
    "        minibatch_label=minibatch_label.to(device)\n",
    "        \n",
    "        # Detach to prevent from backpropagating all the way to the beginning\n",
    "        # Then tell Pytorch to start tracking all operations that will be done on h and c\n",
    "        h=h.detach()\n",
    "        c=c.detach()\n",
    "        h=h.requires_grad_()\n",
    "        c=c.requires_grad_()\n",
    "                       \n",
    "        # forward the minibatch through the net        \n",
    "        scores, h, c  = net( minibatch_data, h , c)\n",
    "        \n",
    "        # reshape the scores and labels to huge batch of size bs*seq_length\n",
    "        scores          =            scores.view(  bs*seq_length , vocab_size)  \n",
    "        minibatch_label =   minibatch_label.view(  bs*seq_length )       \n",
    "        \n",
    "        # Compute the average of the losses of the data points in this huge batch\n",
    "        loss = criterion(  scores ,  minibatch_label )\n",
    "        \n",
    "        # backward pass to compute dL/dR, dL/dV and dL/dW\n",
    "        loss.backward()\n",
    "\n",
    "        # do one step of stochastic gradient descent: R=R-lr(dL/dR), V=V-lr(dL/dV), ...\n",
    "        utils.normalize_gradient(net)\n",
    "        optimizer.step()   \n",
    "            \n",
    "        # update the running loss  \n",
    "        running_loss += loss.item()\n",
    "        num_batches += 1\n",
    "        \n",
    "        \n",
    "        \n",
    "    # compute stats for the full training set\n",
    "    total_loss = running_loss/num_batches\n",
    "    elapsed = time.time()-start\n",
    "    \n",
    "    print('')\n",
    "    print('epoch=',epoch, '\\t time=', elapsed,'\\t lr=', my_lr, '\\t exp(loss)=',  math.exp(total_loss))\n",
    "    eval_on_test_set() \n"
   ]
  },
  {
   "cell_type": "markdown",
   "metadata": {},
   "source": [
    "### Choose one sentence (taken from the test set)"
   ]
  },
  {
   "cell_type": "code",
   "execution_count": 19,
   "metadata": {},
   "outputs": [],
   "source": [
    "# SENTENCES FROM TEST SET\n",
    "\n",
    "sentence1 = \"some analysts expect oil prices to remain relatively\"\n",
    "\n",
    "sentence2 = \"over the next days and weeks they say investors should look for stocks to\"\n",
    "\n",
    "sentence2 = \"some analysts expect oil prices to remain relatively\"\n",
    "\n",
    "sentence3 = \"prices averaging roughly $ N a barrel higher in the third\"\n",
    "\n",
    "sentence4 = \"i think my line has been very consistent mrs. hills said at a news\"\n",
    "\n",
    "sentence5 = \"this appears particularly true at gm which had strong sales in\"\n",
    "\n",
    "# OR MAKE YOUR OWN SENTENCE. \n",
    "# NO CAPITAL LETTER ALLOWED. EACH WORD MUST BE IN THE ALLOWED VOCABULARY OF 10,000 WORDS\n",
    "\n",
    "sentence6= \"he was very\"\n",
    "\n",
    "\n",
    "# CHOOSE THE SENTENCE\n",
    "mysentence = sentence3"
   ]
  },
  {
   "cell_type": "markdown",
   "metadata": {},
   "source": [
    "### Convert the sentence into a vector, then send to GPU"
   ]
  },
  {
   "cell_type": "code",
   "execution_count": 20,
   "metadata": {},
   "outputs": [
    {
     "name": "stdout",
     "output_type": "stream",
     "text": [
      "tensor([[1786],\n",
      "        [8705],\n",
      "        [3246],\n",
      "        [ 416],\n",
      "        [  27],\n",
      "        [  35],\n",
      "        [2664],\n",
      "        [ 209],\n",
      "        [ 108],\n",
      "        [  32],\n",
      "        [3017]])\n"
     ]
    }
   ],
   "source": [
    "minibatch_data=utils.sentence2vector(mysentence)\n",
    "      \n",
    "minibatch_data=minibatch_data.to(device)\n",
    "\n",
    "print(minibatch_data)"
   ]
  },
  {
   "cell_type": "markdown",
   "metadata": {},
   "source": [
    "### Set the initial hidden state to zero, then run the LSTM."
   ]
  },
  {
   "cell_type": "code",
   "execution_count": null,
   "metadata": {},
   "outputs": [],
   "source": [
    "h = torch.zeros(1, 1, hidden_size)\n",
    "c = torch.zeros(1, 1, hidden_size)\n",
    "\n",
    "# Note: my code assumes there is not the extra dimension\n",
    "h = torch.zeros(1, hidden_size)\n",
    "c = torch.zeros(1, hidden_size)\n",
    "h=h.to(device)\n",
    "c=c.to(device)\n",
    "\n",
    "scores , h, c = net(minibatch_data , h, c)"
   ]
  },
  {
   "cell_type": "markdown",
   "metadata": {},
   "source": [
    "### Display the network prediction for the next word"
   ]
  },
  {
   "cell_type": "code",
   "execution_count": 22,
   "metadata": {},
   "outputs": [
    {
     "name": "stdout",
     "output_type": "stream",
     "text": [
      "prices averaging roughly $ N a barrel higher in the third ... \n",
      "\n",
      "81.1%\t quarter\n",
      "4.2%\t world\n",
      "2.7%\t <eos>\n",
      "1.9%\t and\n",
      "1.4%\t year\n",
      "0.8%\t period\n",
      "0.7%\t of\n",
      "0.7%\t game\n",
      "0.7%\t consecutive\n",
      "0.4%\t area\n",
      "0.3%\t market\n",
      "0.2%\t sector\n",
      "0.2%\t quarters\n",
      "0.2%\t process\n",
      "0.1%\t week\n",
      "0.1%\t they\n",
      "0.1%\t business\n",
      "0.1%\t term\n",
      "0.1%\t parties\n",
      "0.1%\t hour\n",
      "0.1%\t range\n",
      "0.1%\t category\n",
      "0.1%\t largest\n",
      "0.1%\t amount\n",
      "0.1%\t <unk>\n",
      "0.1%\t session\n",
      "0.1%\t or\n",
      "0.1%\t month\n",
      "0.1%\t time\n",
      "0.1%\t fall\n"
     ]
    }
   ],
   "source": [
    "print(mysentence, '... \\n')\n",
    "\n",
    "utils.show_next_word(scores)"
   ]
  },
  {
   "cell_type": "code",
   "execution_count": null,
   "metadata": {},
   "outputs": [],
   "source": []
  }
 ],
 "metadata": {
  "kernelspec": {
   "display_name": "torch-py310",
   "language": "python",
   "name": "python3"
  },
  "language_info": {
   "codemirror_mode": {
    "name": "ipython",
    "version": 3
   },
   "file_extension": ".py",
   "mimetype": "text/x-python",
   "name": "python",
   "nbconvert_exporter": "python",
   "pygments_lexer": "ipython3",
   "version": "3.10.16"
  }
 },
 "nbformat": 4,
 "nbformat_minor": 4
}
